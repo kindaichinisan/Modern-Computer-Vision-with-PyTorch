{
  "cells": [
    {
      "cell_type": "markdown",
      "metadata": {
        "colab_type": "text",
        "id": "view-in-github"
      },
      "source": [
        "<a href=\"https://colab.research.google.com/github/PacktPublishing/Hands-On-Computer-Vision-with-PyTorch/blob/master/Chapter02/Numpy_Vs_Torch_object_computation_speed_comparison.ipynb\" target=\"_parent\"><img src=\"https://colab.research.google.com/assets/colab-badge.svg\" alt=\"Open In Colab\"/></a>"
      ]
    },
    {
      "cell_type": "code",
      "execution_count": 1,
      "metadata": {
        "id": "28AUPOlYcu3r"
      },
      "outputs": [],
      "source": [
        "import torch\n",
        "x = torch.rand(1, 6400)\n",
        "y = torch.rand(6400, 5000)"
      ]
    },
    {
      "cell_type": "code",
      "execution_count": 2,
      "metadata": {
        "id": "Sv_d4T5wcwyd"
      },
      "outputs": [
        {
          "ename": "AssertionError",
          "evalue": "This exercise assumes the notebook is on a GPU machine",
          "output_type": "error",
          "traceback": [
            "\u001b[1;31m---------------------------------------------------------------------------\u001b[0m",
            "\u001b[1;31mAssertionError\u001b[0m                            Traceback (most recent call last)",
            "Cell \u001b[1;32mIn[2], line 2\u001b[0m\n\u001b[0;32m      1\u001b[0m device \u001b[38;5;241m=\u001b[39m \u001b[38;5;124m'\u001b[39m\u001b[38;5;124mcuda\u001b[39m\u001b[38;5;124m'\u001b[39m \u001b[38;5;28;01mif\u001b[39;00m torch\u001b[38;5;241m.\u001b[39mcuda\u001b[38;5;241m.\u001b[39mis_available() \u001b[38;5;28;01melse\u001b[39;00m \u001b[38;5;124m'\u001b[39m\u001b[38;5;124mcpu\u001b[39m\u001b[38;5;124m'\u001b[39m\n\u001b[1;32m----> 2\u001b[0m \u001b[38;5;28;01massert\u001b[39;00m device \u001b[38;5;241m==\u001b[39m \u001b[38;5;124m'\u001b[39m\u001b[38;5;124mcuda\u001b[39m\u001b[38;5;124m'\u001b[39m, \u001b[38;5;124m\"\u001b[39m\u001b[38;5;124mThis exercise assumes the notebook is on a GPU machine\u001b[39m\u001b[38;5;124m\"\u001b[39m\n",
            "\u001b[1;31mAssertionError\u001b[0m: This exercise assumes the notebook is on a GPU machine"
          ]
        }
      ],
      "source": [
        "device = 'cuda' if torch.cuda.is_available() else 'cpu'\n",
        "assert device == 'cuda', \"This exercise assumes the notebook is on a GPU machine\""
      ]
    },
    {
      "cell_type": "code",
      "execution_count": null,
      "metadata": {
        "id": "Xc8oysTVczCG"
      },
      "outputs": [],
      "source": [
        "x, y = x.to(device), y.to(device)"
      ]
    },
    {
      "cell_type": "code",
      "execution_count": null,
      "metadata": {
        "colab": {
          "base_uri": "https://localhost:8080/",
          "height": 51
        },
        "id": "jdzaTd7Rc0fc",
        "outputId": "70159e60-eacb-4855-c791-a95de753f494"
      },
      "outputs": [
        {
          "name": "stdout",
          "output_type": "stream",
          "text": [
            "The slowest run took 22.35 times longer than the fastest. This could mean that an intermediate result is being cached.\n",
            "10000 loops, best of 3: 974 µs per loop\n"
          ]
        }
      ],
      "source": [
        "%timeit z=(x@y)"
      ]
    },
    {
      "cell_type": "code",
      "execution_count": null,
      "metadata": {
        "colab": {
          "base_uri": "https://localhost:8080/",
          "height": 34
        },
        "id": "B7nijUnjc2BC",
        "outputId": "047a5c2f-58c5-4567-c3e9-14734d056bd8"
      },
      "outputs": [
        {
          "name": "stdout",
          "output_type": "stream",
          "text": [
            "100 loops, best of 3: 9.4 ms per loop\n"
          ]
        }
      ],
      "source": [
        "x, y = x.cpu(), y.cpu()\n",
        "%timeit z=(x@y)"
      ]
    },
    {
      "cell_type": "code",
      "execution_count": null,
      "metadata": {
        "colab": {
          "base_uri": "https://localhost:8080/",
          "height": 34
        },
        "id": "wEGUO99Ec3Z4",
        "outputId": "11cd14b4-5c89-4ea3-d43a-104d7ceb3370"
      },
      "outputs": [
        {
          "name": "stdout",
          "output_type": "stream",
          "text": [
            "10 loops, best of 3: 19.9 ms per loop\n"
          ]
        }
      ],
      "source": [
        "import numpy as np\n",
        "x = np.random.random((1, 6400))\n",
        "y = np.random.random((6400, 5000))\n",
        "%timeit z = np.matmul(x,y)"
      ]
    },
    {
      "cell_type": "code",
      "execution_count": null,
      "metadata": {
        "id": "nczGQXKqc6H0"
      },
      "outputs": [],
      "source": []
    }
  ],
  "metadata": {
    "accelerator": "GPU",
    "colab": {
      "collapsed_sections": [],
      "include_colab_link": true,
      "name": "Numpy_Vs_Torch_object_computation_speed_comparison.ipynb",
      "provenance": []
    },
    "kernelspec": {
      "display_name": "Python 3",
      "language": "python",
      "name": "python3"
    },
    "language_info": {
      "codemirror_mode": {
        "name": "ipython",
        "version": 3
      },
      "file_extension": ".py",
      "mimetype": "text/x-python",
      "name": "python",
      "nbconvert_exporter": "python",
      "pygments_lexer": "ipython3",
      "version": "3.12.3"
    }
  },
  "nbformat": 4,
  "nbformat_minor": 0
}
